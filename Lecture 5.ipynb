{
 "metadata": {
  "name": "",
  "signature": "sha256:7779c93f74e29bc209b35bf724716b1db27662888706cafbfa37fbb29554d770"
 },
 "nbformat": 3,
 "nbformat_minor": 0,
 "worksheets": [
  {
   "cells": [
    {
     "cell_type": "markdown",
     "metadata": {},
     "source": [
      "# Lecture 5: ITERATIVE ALGORITHMS"
     ]
    },
    {
     "cell_type": "markdown",
     "metadata": {},
     "source": [
      "### Iterative Multiplication"
     ]
    },
    {
     "cell_type": "code",
     "collapsed": false,
     "input": [
      "def iterMul(a, b):\n",
      "    result = 0\n",
      "    while b > 0:\n",
      "        result += a\n",
      "        b -= 1\n",
      "    return result"
     ],
     "language": "python",
     "metadata": {},
     "outputs": []
    },
    {
     "cell_type": "code",
     "collapsed": false,
     "input": [
      "# L5 PROBLEM 1\n",
      "\n",
      "def iterPower(base, exp):\n",
      "    '''\n",
      "    base: int or float.\n",
      "    exp: int >= 0\n",
      " \n",
      "    returns: int or float, base^exp\n",
      "    '''\n",
      "\n",
      "    result = 1\n",
      "    \n",
      "    while exp > 0:\n",
      "        result *= base\n",
      "        exp -= 1  \n",
      "    \n",
      "    return result"
     ],
     "language": "python",
     "metadata": {},
     "outputs": [],
     "prompt_number": 6
    },
    {
     "cell_type": "code",
     "collapsed": false,
     "input": [
      "iterPower(3,3)"
     ],
     "language": "python",
     "metadata": {},
     "outputs": [
      {
       "metadata": {},
       "output_type": "pyout",
       "prompt_number": 7,
       "text": [
        "27"
       ]
      }
     ],
     "prompt_number": 7
    },
    {
     "cell_type": "markdown",
     "metadata": {},
     "source": [
      "### Recursive Version\n",
      "\n",
      "Thinking recursively\n",
      "\n",
      "Two steps: recursive step and base case"
     ]
    },
    {
     "cell_type": "code",
     "collapsed": false,
     "input": [
      "def recurMul(a, b):\n",
      "    if b == 1:\n",
      "        return a\n",
      "    else:\n",
      "        return a + recurMul(a, b-1)"
     ],
     "language": "python",
     "metadata": {},
     "outputs": [],
     "prompt_number": 8
    },
    {
     "cell_type": "code",
     "collapsed": false,
     "input": [
      "recurMul(3,4)"
     ],
     "language": "python",
     "metadata": {},
     "outputs": [
      {
       "metadata": {},
       "output_type": "pyout",
       "prompt_number": 9,
       "text": [
        "12"
       ]
      }
     ],
     "prompt_number": 9
    },
    {
     "cell_type": "code",
     "collapsed": false,
     "input": [
      "def factI(n):\n",
      "    \"\"\"assumes that n is an int > 0\n",
      "       returns n!\"\"\"\n",
      "    res = 1\n",
      "    while n > 1:\n",
      "        res = res * n\n",
      "        n -= 1\n",
      "    return res\n",
      "\n",
      "def factR(n):\n",
      "    \"\"\"assumes that n is an int > 0\n",
      "       returns n!\"\"\"\n",
      "    if n == 1:\n",
      "        return n\n",
      "    return n*factR(n-1)"
     ],
     "language": "python",
     "metadata": {},
     "outputs": [],
     "prompt_number": 10
    },
    {
     "cell_type": "code",
     "collapsed": false,
     "input": [
      "def printMove(fr, to):\n",
      "    print('move from ' + str(fr) + ' to ' + str(to))\n",
      "\n",
      "def Towers(n, fr, to, spare):\n",
      "    if n == 1:\n",
      "        printMove(fr, to)\n",
      "    else:\n",
      "        Towers(n-1, fr, spare, to)\n",
      "        Towers(1, fr, to, spare)\n",
      "        Towers(n-1, spare, to, fr)"
     ],
     "language": "python",
     "metadata": {},
     "outputs": []
    },
    {
     "cell_type": "code",
     "collapsed": false,
     "input": [
      "def fib(x):\n",
      "    \"\"\"assumes x an int >= 0\n",
      "       returns Fibonacci of x\"\"\"\n",
      "    assert type(x) == int and x >= 0\n",
      "    if x == 0 or x == 1:\n",
      "        return 1\n",
      "    else:\n",
      "        return fib(x-1) + fib(x-2)"
     ],
     "language": "python",
     "metadata": {},
     "outputs": [],
     "prompt_number": 12
    },
    {
     "cell_type": "code",
     "collapsed": false,
     "input": [
      "fib(15)"
     ],
     "language": "python",
     "metadata": {},
     "outputs": [
      {
       "metadata": {},
       "output_type": "pyout",
       "prompt_number": 14,
       "text": [
        "987"
       ]
      }
     ],
     "prompt_number": 14
    },
    {
     "cell_type": "markdown",
     "metadata": {},
     "source": [
      "## Recursion on non-numerics"
     ]
    },
    {
     "cell_type": "markdown",
     "metadata": {},
     "source": [
      "### First step is to remove puncs and caps"
     ]
    },
    {
     "cell_type": "markdown",
     "metadata": {},
     "source": [
      "### Tokenize the string so we have the atomic view of the string"
     ]
    },
    {
     "cell_type": "code",
     "collapsed": false,
     "input": [
      "def isPalindrome(s):\n",
      "\n",
      "    def toChars(s):\n",
      "        s = s.lower()\n",
      "        ans = ''\n",
      "        for c in s:\n",
      "            if c in 'abcdefghijklmnopqrstuvwxyz': # this is revemoving punc/\n",
      "                ans = ans + c\n",
      "        return ans\n",
      "\n",
      "    def isPal(s):\n",
      "        if len(s) <= 1:\n",
      "            return True\n",
      "        else:\n",
      "            return s[0] == s[-1] and isPal(s[1:-1])\n",
      "\n",
      "    return isPal(toChars(s))"
     ],
     "language": "python",
     "metadata": {},
     "outputs": []
    },
    {
     "cell_type": "heading",
     "level": 3,
     "metadata": {},
     "source": [
      "Global Variable"
     ]
    },
    {
     "cell_type": "code",
     "collapsed": false,
     "input": [
      "def fibMetered(x):\n",
      "    global numCalls  # global call! \n",
      "    numCalls += 1\n",
      "    if x == 0 or x == 1:\n",
      "        return 1\n",
      "    else:\n",
      "        return fibMetered(x-1) + fibMetered(x-2)\n",
      "\n",
      "\n",
      "def testFib(n):\n",
      "    for i in range(n+1):\n",
      "        global numCalls\n",
      "        numCalls = 0\n",
      "        print('fib of ' + str(i) + ' = ' + str(fibMetered(i)))\n",
      "        print('fib called ' + str(numCalls) + ' times')"
     ],
     "language": "python",
     "metadata": {},
     "outputs": []
    },
    {
     "cell_type": "heading",
     "level": 1,
     "metadata": {},
     "source": [
      "Lecture 6: Compound Data Types"
     ]
    },
    {
     "cell_type": "markdown",
     "metadata": {},
     "source": [
      "## Tuples ()\n",
      "\n",
      "Value could be more than just characters. \n",
      "\n"
     ]
    },
    {
     "cell_type": "code",
     "collapsed": false,
     "input": [
      "t1 = (1, 'two', 3)\n",
      "\n",
      "t1"
     ],
     "language": "python",
     "metadata": {},
     "outputs": [
      {
       "metadata": {},
       "output_type": "pyout",
       "prompt_number": 3,
       "text": [
        "(1, 'two', 3)"
       ]
      }
     ],
     "prompt_number": 3
    },
    {
     "cell_type": "code",
     "collapsed": false,
     "input": [
      "t2 = (t1, \"four\")\n",
      "\n",
      "t2"
     ],
     "language": "python",
     "metadata": {},
     "outputs": [
      {
       "metadata": {},
       "output_type": "pyout",
       "prompt_number": 5,
       "text": [
        "((1, 'two', 3), 'four')"
       ]
      }
     ],
     "prompt_number": 5
    },
    {
     "cell_type": "code",
     "collapsed": false,
     "input": [
      "t1 + t2 # this is "
     ],
     "language": "python",
     "metadata": {},
     "outputs": [
      {
       "metadata": {},
       "output_type": "pyout",
       "prompt_number": 6,
       "text": [
        "(1, 'two', 3, (1, 'two', 3), 'four')"
       ]
      }
     ],
     "prompt_number": 6
    },
    {
     "cell_type": "markdown",
     "metadata": {},
     "source": [
      "### Index!"
     ]
    },
    {
     "cell_type": "code",
     "collapsed": false,
     "input": [
      "t2[0]"
     ],
     "language": "python",
     "metadata": {},
     "outputs": [
      {
       "metadata": {},
       "output_type": "pyout",
       "prompt_number": 8,
       "text": [
        "(1, 'two', 3)"
       ]
      }
     ],
     "prompt_number": 8
    },
    {
     "cell_type": "code",
     "collapsed": false,
     "input": [
      "t2[0][2]"
     ],
     "language": "python",
     "metadata": {},
     "outputs": [
      {
       "metadata": {},
       "output_type": "pyout",
       "prompt_number": 10,
       "text": [
        "3"
       ]
      }
     ],
     "prompt_number": 10
    },
    {
     "cell_type": "markdown",
     "metadata": {},
     "source": [
      "## Slice"
     ]
    },
    {
     "cell_type": "code",
     "collapsed": false,
     "input": [
      "t2[0][0:2]"
     ],
     "language": "python",
     "metadata": {},
     "outputs": [
      {
       "metadata": {},
       "output_type": "pyout",
       "prompt_number": 15,
       "text": [
        "(1, 'two')"
       ]
      }
     ],
     "prompt_number": 15
    },
    {
     "cell_type": "markdown",
     "metadata": {},
     "source": [
      "## Singleton"
     ]
    },
    {
     "cell_type": "code",
     "collapsed": false,
     "input": [
      "t3 = ('five') # this is a single item\n",
      "\n",
      "t3"
     ],
     "language": "python",
     "metadata": {},
     "outputs": [
      {
       "metadata": {},
       "output_type": "pyout",
       "prompt_number": 17,
       "text": [
        "'five'"
       ]
      }
     ],
     "prompt_number": 17
    },
    {
     "cell_type": "code",
     "collapsed": false,
     "input": [
      "t1 + t3"
     ],
     "language": "python",
     "metadata": {},
     "outputs": [
      {
       "ename": "TypeError",
       "evalue": "can only concatenate tuple (not \"str\") to tuple",
       "output_type": "pyerr",
       "traceback": [
        "\u001b[0;31m---------------------------------------------------------------------------\u001b[0m\n\u001b[0;31mTypeError\u001b[0m                                 Traceback (most recent call last)",
        "\u001b[0;32m<ipython-input-18-9cd5e100273c>\u001b[0m in \u001b[0;36m<module>\u001b[0;34m()\u001b[0m\n\u001b[0;32m----> 1\u001b[0;31m \u001b[0mt1\u001b[0m \u001b[0;34m+\u001b[0m \u001b[0mt3\u001b[0m\u001b[0;34m\u001b[0m\u001b[0m\n\u001b[0m",
        "\u001b[0;31mTypeError\u001b[0m: can only concatenate tuple (not \"str\") to tuple"
       ]
      }
     ],
     "prompt_number": 18
    },
    {
     "cell_type": "code",
     "collapsed": false,
     "input": [
      "t3 = ('five',) # this is a tuple"
     ],
     "language": "python",
     "metadata": {},
     "outputs": [],
     "prompt_number": 19
    },
    {
     "cell_type": "code",
     "collapsed": false,
     "input": [
      "t1 + t3"
     ],
     "language": "python",
     "metadata": {},
     "outputs": [
      {
       "metadata": {},
       "output_type": "pyout",
       "prompt_number": 20,
       "text": [
        "(1, 'two', 3, 'five')"
       ]
      }
     ],
     "prompt_number": 20
    },
    {
     "cell_type": "code",
     "collapsed": false,
     "input": [
      "def findDivisors(n1, n2):\n",
      "    \"\"\"assumes that n1 and n2 are positive ints\n",
      "       returns a tuple containing the common divisors of n1 and n2\"\"\"\n",
      "    divisors = () # the empty tuple\n",
      "    for i in range(1, min(n1, n2) + 1):\n",
      "        if n1%i == 0 and n2%i == 0:\n",
      "            divisors = divisors + (i,)\n",
      "    return divisors\n",
      "\n",
      "\n",
      "divisors = findDivisors(20, 100)\n",
      "total = 0\n",
      "for d in divisors:\n",
      "    total += d # this is python's way of getting SUM\n",
      "print(total)"
     ],
     "language": "python",
     "metadata": {},
     "outputs": [
      {
       "output_type": "stream",
       "stream": "stdout",
       "text": [
        "42\n"
       ]
      }
     ],
     "prompt_number": 21
    },
    {
     "cell_type": "code",
     "collapsed": false,
     "input": [
      "findDivisors(20,100)"
     ],
     "language": "python",
     "metadata": {},
     "outputs": [
      {
       "metadata": {},
       "output_type": "pyout",
       "prompt_number": 22,
       "text": [
        "(1, 2, 4, 5, 10, 20)"
       ]
      }
     ],
     "prompt_number": 22
    },
    {
     "cell_type": "markdown",
     "metadata": {},
     "source": [
      "## List [ ]\n"
     ]
    },
    {
     "cell_type": "markdown",
     "metadata": {},
     "source": [
      "### Lists are mutable, which means we can change them\n",
      "\n",
      "### Tuples are immutable."
     ]
    },
    {
     "cell_type": "markdown",
     "metadata": {},
     "source": [
      "Some data objects may want to support modifica7ons to elements, either for efficiency or because elements are prone to change"
     ]
    },
    {
     "cell_type": "code",
     "collapsed": false,
     "input": [
      "## universities\n",
      "\n",
      "Techs = ['MIT', 'Cal Tech']\n",
      "Ivys = ['Harvard', 'Yale', 'Brown']\n",
      "\n",
      "Univs = [Techs, Ivys]\n",
      "Univs1 = [['MIT', 'Cal Tech'], ['Harvard', 'Yale', 'Brown']]\n",
      "\n",
      "Techs.append('RPI')\n",
      "\n",
      "print('Univs = ')\n",
      "print(Univs)\n",
      "print('')\n",
      "print('Univs1 =')\n",
      "print(Univs1)\n",
      "\n",
      "\n",
      "for e in Univs:\n",
      "    print('Univs contains ')\n",
      "    print(e)\n",
      "    print('   which contains')\n",
      "    for u in e:\n",
      "        print('      ' + u)\n"
     ],
     "language": "python",
     "metadata": {},
     "outputs": [
      {
       "output_type": "stream",
       "stream": "stdout",
       "text": [
        "Univs = \n",
        "[['MIT', 'Cal Tech', 'RPI'], ['Harvard', 'Yale', 'Brown']]\n",
        "\n",
        "Univs1 =\n",
        "[['MIT', 'Cal Tech'], ['Harvard', 'Yale', 'Brown']]\n",
        "Univs contains \n",
        "['MIT', 'Cal Tech', 'RPI']\n",
        "   which contains\n",
        "      MIT\n",
        "      Cal Tech\n",
        "      RPI\n",
        "Univs contains \n",
        "['Harvard', 'Yale', 'Brown']\n",
        "   which contains\n",
        "      Harvard\n",
        "      Yale\n",
        "      Brown\n"
       ]
      }
     ],
     "prompt_number": 32
    },
    {
     "cell_type": "markdown",
     "metadata": {},
     "source": [
      "### append is a method which has a side effect, which means it mutates"
     ]
    },
    {
     "cell_type": "markdown",
     "metadata": {},
     "source": [
      "## Flattening"
     ]
    },
    {
     "cell_type": "code",
     "collapsed": false,
     "input": [
      "flat = Techs + Ivys"
     ],
     "language": "python",
     "metadata": {},
     "outputs": [],
     "prompt_number": 34
    },
    {
     "cell_type": "code",
     "collapsed": false,
     "input": [
      "flat"
     ],
     "language": "python",
     "metadata": {},
     "outputs": [
      {
       "metadata": {},
       "output_type": "pyout",
       "prompt_number": 35,
       "text": [
        "['MIT', 'Cal Tech', 'RPI', 'Harvard', 'Yale', 'Brown']"
       ]
      }
     ],
     "prompt_number": 35
    },
    {
     "cell_type": "code",
     "collapsed": false,
     "input": [
      "Techs"
     ],
     "language": "python",
     "metadata": {},
     "outputs": [
      {
       "metadata": {},
       "output_type": "pyout",
       "prompt_number": 36,
       "text": [
        "['MIT', 'Cal Tech', 'RPI']"
       ]
      }
     ],
     "prompt_number": 36
    },
    {
     "cell_type": "code",
     "collapsed": false,
     "input": [
      "Ivys"
     ],
     "language": "python",
     "metadata": {},
     "outputs": [
      {
       "metadata": {},
       "output_type": "pyout",
       "prompt_number": 37,
       "text": [
        "['Harvard', 'Yale', 'Brown']"
       ]
      }
     ],
     "prompt_number": 37
    },
    {
     "cell_type": "markdown",
     "metadata": {},
     "source": [
      "Append is mutating, Flatting (cancatening) is creating new list"
     ]
    },
    {
     "cell_type": "code",
     "collapsed": false,
     "input": [
      "def removeDups(L1, L2):\n",
      "    for e1 in L1:\n",
      "        if e1 in L2:\n",
      "            L1.remove(e1) # remove is a method too \n",
      "\n",
      "\n",
      "L1 = [1,2,3,4]\n",
      "L2 = [1,2,5,6]\n",
      "removeDups(L1, L2)\n",
      "print(L1)"
     ],
     "language": "python",
     "metadata": {},
     "outputs": [
      {
       "output_type": "stream",
       "stream": "stdout",
       "text": [
        "[2, 3, 4]\n"
       ]
      }
     ],
     "prompt_number": 38
    },
    {
     "cell_type": "code",
     "collapsed": false,
     "input": [
      "def removeDupsBetter(L1, L2):\n",
      "    L1Start = L1[:] # equal L1 is not enough... \n",
      "    for e1 in L1Start:\n",
      "        if e1 in L2:\n",
      "            L1.remove(e1)\n",
      "\n",
      "L1 = [1,2,3,4]\n",
      "L2 = [1,2,5,6]\n",
      "removeDupsBetter(L1, L2)\n",
      "print(L1)"
     ],
     "language": "python",
     "metadata": {},
     "outputs": [
      {
       "output_type": "stream",
       "stream": "stdout",
       "text": [
        "[3, 4]\n"
       ]
      }
     ],
     "prompt_number": 39
    },
    {
     "cell_type": "heading",
     "level": 2,
     "metadata": {},
     "source": [
      "Function as Objects"
     ]
    },
    {
     "cell_type": "markdown",
     "metadata": {},
     "source": [
      "first class objects. fucntions are first class objects\n",
      "\n",
      "This is useful for combining func with list to use. "
     ]
    },
    {
     "cell_type": "code",
     "collapsed": false,
     "input": [
      "def applyToEach(L, f):\n",
      "    \"\"\"assumes L is a list, f a function\n",
      "       mutates L by replacing each element, e, of L by f(e)\"\"\"\n",
      "    for i in range(len(L)):\n",
      "        L[i] = f(L[i])"
     ],
     "language": "python",
     "metadata": {},
     "outputs": [],
     "prompt_number": 40
    },
    {
     "cell_type": "code",
     "collapsed": false,
     "input": [
      "L = [1, -2, 3.4]"
     ],
     "language": "python",
     "metadata": {},
     "outputs": [],
     "prompt_number": 41
    },
    {
     "cell_type": "code",
     "collapsed": false,
     "input": [
      "applyToEach(L, abs)\n",
      "\n",
      "L"
     ],
     "language": "python",
     "metadata": {},
     "outputs": [
      {
       "metadata": {},
       "output_type": "pyout",
       "prompt_number": 43,
       "text": [
        "[1, 2, 3.4]"
       ]
      }
     ],
     "prompt_number": 43
    },
    {
     "cell_type": "code",
     "collapsed": false,
     "input": [
      "def fact(n):\n",
      "    if n == 1:\n",
      "        return 1\n",
      "    else:\n",
      "        return n*fact(n-1)"
     ],
     "language": "python",
     "metadata": {},
     "outputs": [],
     "prompt_number": 44
    },
    {
     "cell_type": "code",
     "collapsed": false,
     "input": [
      "def fib(n):\n",
      "    if n == 0 or n == 1:\n",
      "        return 1\n",
      "    else:\n",
      "        return fib(n-1) + fib(n-2)"
     ],
     "language": "python",
     "metadata": {},
     "outputs": [],
     "prompt_number": 47
    },
    {
     "cell_type": "markdown",
     "metadata": {},
     "source": [
      "## Map!  (Generalize the higher order function)"
     ]
    },
    {
     "cell_type": "markdown",
     "metadata": {},
     "source": [
      "a unary function and a collection of\n",
      "suitable arguments"
     ]
    },
    {
     "cell_type": "code",
     "collapsed": false,
     "input": [
      "L1 = [1, 28, 36]\n",
      "L2 = [2, 57, 9]"
     ],
     "language": "python",
     "metadata": {},
     "outputs": [],
     "prompt_number": 49
    },
    {
     "cell_type": "code",
     "collapsed": false,
     "input": [
      "map(min, L1, L2)"
     ],
     "language": "python",
     "metadata": {},
     "outputs": [
      {
       "metadata": {},
       "output_type": "pyout",
       "prompt_number": 50,
       "text": [
        "[1, 28, 9]"
       ]
      }
     ],
     "prompt_number": 50
    },
    {
     "cell_type": "heading",
     "level": 2,
     "metadata": {},
     "source": [
      "Dictionary"
     ]
    },
    {
     "cell_type": "markdown",
     "metadata": {},
     "source": [
      "Dictionaries are non-linear list, their indeces could be any elements that are immutable. "
     ]
    },
    {
     "cell_type": "markdown",
     "metadata": {},
     "source": [
      "The index in the Dict is called key"
     ]
    },
    {
     "cell_type": "code",
     "collapsed": false,
     "input": [
      "monthNumbers = {'Jan':1, 'Feb':2, 'Mar':3, 1:'Jan', 2:'Feb', 3:'Mar'}"
     ],
     "language": "python",
     "metadata": {},
     "outputs": [],
     "prompt_number": 51
    },
    {
     "cell_type": "code",
     "collapsed": false,
     "input": [
      "monthNumbers['Jan']"
     ],
     "language": "python",
     "metadata": {},
     "outputs": [
      {
       "metadata": {},
       "output_type": "pyout",
       "prompt_number": 52,
       "text": [
        "1"
       ]
      }
     ],
     "prompt_number": 52
    },
    {
     "cell_type": "code",
     "collapsed": false,
     "input": [
      "monthNumbers[1] # this is not saying the second elements"
     ],
     "language": "python",
     "metadata": {},
     "outputs": [
      {
       "metadata": {},
       "output_type": "pyout",
       "prompt_number": 54,
       "text": [
        "'Jan'"
       ]
      }
     ],
     "prompt_number": 54
    },
    {
     "cell_type": "markdown",
     "metadata": {},
     "source": [
      "Entries in a dict are unordered, and can only be accessed by a key, not an index"
     ]
    },
    {
     "cell_type": "markdown",
     "metadata": {},
     "source": [
      "Can not index by int, but num"
     ]
    },
    {
     "cell_type": "code",
     "collapsed": false,
     "input": [
      "collect = []\n",
      "\n",
      "for e in monthNumbers:\n",
      "    collect.append(e)"
     ],
     "language": "python",
     "metadata": {},
     "outputs": [],
     "prompt_number": 58
    },
    {
     "cell_type": "code",
     "collapsed": false,
     "input": [
      "collect"
     ],
     "language": "python",
     "metadata": {},
     "outputs": [
      {
       "metadata": {},
       "output_type": "pyout",
       "prompt_number": 59,
       "text": [
        "[1, 2, 'Mar', 'Feb', 'Jan', 3]"
       ]
      }
     ],
     "prompt_number": 59
    },
    {
     "cell_type": "code",
     "collapsed": false,
     "input": [
      "monthNumbers.keys()"
     ],
     "language": "python",
     "metadata": {},
     "outputs": [
      {
       "metadata": {},
       "output_type": "pyout",
       "prompt_number": 61,
       "text": [
        "[1, 2, 'Mar', 'Feb', 'Jan', 3]"
       ]
      }
     ],
     "prompt_number": 61
    },
    {
     "cell_type": "heading",
     "level": 2,
     "metadata": {},
     "source": [
      "The key could be complex!"
     ]
    },
    {
     "cell_type": "code",
     "collapsed": false,
     "input": [],
     "language": "python",
     "metadata": {},
     "outputs": []
    }
   ],
   "metadata": {}
  }
 ]
}